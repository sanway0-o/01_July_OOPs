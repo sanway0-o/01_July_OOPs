{
 "cells": [
  {
   "cell_type": "markdown",
   "id": "d7da81ad",
   "metadata": {},
   "source": [
    "**Q1.** The primary goal of Object-Oriented Programming (OOP) in Python, as in any other programming language that supports OOP principles, is to provide a structured and modular approach to designing and organizing code. OOP in Python is based on the concept of \"objects,\" which are instances of classes, and it is built around the following core principles:\n",
    "\n",
    "1. **Encapsulation:** Encapsulation is the practice of bundling data (attributes) and the methods (functions) that operate on that data into a single unit called a \"class.\" This helps in hiding the internal details of how an object works and exposes only the necessary interfaces, providing a clear separation of concerns.\n",
    "\n",
    "2. **Abstraction:** Abstraction allows you to model real-world entities or concepts in a simplified way by defining classes that represent those entities. It involves creating abstract data types and focusing on what an object does rather than how it does it. This abstraction helps manage complexity and makes the code more understandable.\n",
    "\n",
    "3. **Inheritance:** Inheritance allows you to create a new class (subclass or derived class) by inheriting properties and behaviors from an existing class (base class or superclass). It promotes code reuse, as you can extend and customize the behavior of existing classes without modifying their source code.\n",
    "\n",
    "4. **Polymorphism:** Polymorphism allows objects of different classes to be treated as objects of a common superclass. It enables you to write code that can work with objects of multiple classes in a consistent way. Polymorphism is often achieved through method overriding and interfaces (in Python, this is achieved through duck typing).\n"
   ]
  },
  {
   "cell_type": "markdown",
   "id": "9d1a6acc",
   "metadata": {},
   "source": [
    "**Q2.** In Python, an object is a fundamental concept and a core building block of the language. Everything in Python is an object, which includes data structures, variables, functions, and even classes. An object is an instance of a class, and it can be thought of as a self-contained unit that contains both data (attributes) and the functions (methods) that operate on that data.\n",
    "\n",
    "Here are some key characteristics of objects in Python:\n",
    "\n",
    "1. **Attributes:** Objects have attributes, which are variables that store data associated with the object. These attributes can be of various data types, including integers, strings, lists, dictionaries, or even other objects.\n",
    "\n",
    "2. **Methods:** Objects have methods, which are functions that are defined within the class and operate on the object's data. These methods can perform various operations and provide a way to interact with and manipulate the object.\n",
    "\n",
    "3. **Identity:** Each object in Python has a unique identity, which is determined by its memory address. You can use the `id()` function to obtain the identity of an object.\n",
    "\n",
    "4. **Type:** Objects have a type, which corresponds to the class they are instantiated from. You can use the `type()` function to determine the type of an object.\n",
    "\n",
    "5. **Behavior:** Objects can exhibit behavior based on their class and the methods defined within that class. They respond to method calls and can change their internal state.\n",
    "\n",
    "6. **Instantiation:** To create an object, you typically use the constructor method, often called `__init__()` in Python classes. This method initializes the object's attributes when it is created."
   ]
  },
  {
   "cell_type": "code",
   "execution_count": 1,
   "id": "7ea73696",
   "metadata": {},
   "outputs": [
    {
     "name": "stdout",
     "output_type": "stream",
     "text": [
      "Alice\n",
      "Hello, my name is Bob and I am 25 years old.\n",
      "<class '__main__.Person'>\n",
      "2850847022224\n"
     ]
    }
   ],
   "source": [
    "#Here's a simple example of creating and working with objects in Python:\n",
    "\n",
    "# Define a class called \"Person\"\n",
    "class Person:\n",
    "    def __init__(self, name, age):\n",
    "        self.name = name\n",
    "        self.age = age\n",
    "\n",
    "    def greet(self):\n",
    "        print(f\"Hello, my name is {self.name} and I am {self.age} years old.\")\n",
    "\n",
    "# Create objects (instances) of the \"Person\" class\n",
    "person1 = Person(\"Alice\", 30)\n",
    "person2 = Person(\"Bob\", 25)\n",
    "\n",
    "# Access attributes and call methods of objects\n",
    "print(person1.name)  # Accessing an attribute\n",
    "person2.greet()      # Calling a method\n",
    "\n",
    "# Check the type and identity of objects\n",
    "print(type(person1))  # Type of object\n",
    "print(id(person1))    # Identity of object\n",
    "\n",
    "\n",
    "#In this example, `person1` and `person2` are objects of the `Person`class\n",
    "#and they have attributes (`name` and `age`) and a method (`greet()`) associated with them.\n",
    "#Objects allow you to model real-world entities in your code and encapsulate their data and behavior."
   ]
  },
  {
   "cell_type": "markdown",
   "id": "f4dd68bf",
   "metadata": {},
   "source": [
    "**Q3.** In Python, a class is a blueprint or template for creating objects (instances). It defines a set of attributes (variables) and methods (functions) that the objects created from the class will have. Classes provide a way to organize and structure code in an object-oriented programming (OOP) paradigm.\n",
    "\n",
    "Here are some key concepts related to classes in Python:\n",
    "\n",
    "1. **Attributes**: Attributes are variables that belong to a class and define the characteristics or properties of objects created from that class. These attributes can be accessed and modified using dot notation.\n",
    "\n",
    "2. **Methods**: Methods are functions defined within a class, and they define the behavior or actions that objects of the class can perform. Methods can access and manipulate the attributes of the class.\n",
    "\n",
    "3. **Objects**: Objects are instances of a class. When you create an object from a class, you are essentially creating a specific instance of that class with its own set of attributes and the ability to call its methods.\n",
    "\n",
    "4. **Constructor (`__init__`)**: The `__init__` method is a special method in a class that gets called when you create a new object from the class. It is used to initialize the attributes of the object. This method is also known as the constructor.\n",
    "\n",
    "5. **Instance Variables**: Instance variables are attributes that belong to an object and can have different values for each object. They are typically defined within the `__init__` method.\n",
    "\n",
    "6. **Class Variables**: Class variables are attributes that belong to the class itself and are shared among all objects of the class. They are defined outside of any method and are the same for all instances of the class.\n"
   ]
  },
  {
   "cell_type": "code",
   "execution_count": 3,
   "id": "b4ea9843",
   "metadata": {},
   "outputs": [
    {
     "name": "stdout",
     "output_type": "stream",
     "text": [
      "Buddy\n",
      "Rex says Woof!\n"
     ]
    }
   ],
   "source": [
    "#Here's a simple example of a Python class:\n",
    "\n",
    "class Dog:\n",
    "    def __init__(self, name, breed):\n",
    "        self.name = name  # Instance variable\n",
    "        self.breed = breed  # Instance variable\n",
    "        self.is_hungry = True  # Instance variable\n",
    "\n",
    "    def bark(self):\n",
    "        return f\"{self.name} says Woof!\"\n",
    "\n",
    "#In this example, we have defined a `Dog` class with attributes (`name`, `breed`, and `is_hungry`)\n",
    "#and a method (`bark`). You can create individual dog objects from this class, each with its own set of attributes:\n",
    "\n",
    "dog1 = Dog(\"Buddy\", \"Golden Retriever\")\n",
    "dog2 = Dog(\"Rex\", \"German Shepherd\")\n",
    "\n",
    "print(dog1.name) \n",
    "print(dog2.bark())  "
   ]
  },
  {
   "cell_type": "markdown",
   "id": "a970f300",
   "metadata": {},
   "source": [
    "**Q4.** In a class, attributes and methods are two fundamental components that define the structure and behavior of objects created from that class:\n",
    "\n",
    "1. **Attributes**:\n",
    "   - Attributes are variables that belong to a class. They represent the data or characteristics of the objects created from the class.\n",
    "   - Attributes define the state or properties of objects.\n",
    "   - In Python, attributes can be thought of as variables associated with instances of the class.\n",
    "   - Each instance of the class can have its own set of attribute values.\n",
    "   - Attributes are defined within the class and are accessed using dot notation (`object.attribute_name`)."
   ]
  },
  {
   "cell_type": "code",
   "execution_count": 6,
   "id": "8df67b48",
   "metadata": {},
   "outputs": [],
   "source": [
    "#Example:\n",
    "\n",
    "class Car:\n",
    "    def __init__(self, make, model, year):\n",
    "        self.make = make   \n",
    "        self.model = model \n",
    "        self.year = year   "
   ]
  },
  {
   "cell_type": "markdown",
   "id": "be18d0f4",
   "metadata": {},
   "source": [
    "2. **Methods**:\n",
    "   - Methods are functions defined within a class. They represent the actions or behaviors that objects created from the class can perform.\n",
    "   - Methods define the behavior or operations that can be applied to objects.\n",
    "   - Like attributes, methods are defined within the class.\n",
    "   - Methods can access and manipulate the attributes of the class and perform various tasks or computations.\n"
   ]
  },
  {
   "cell_type": "code",
   "execution_count": 7,
   "id": "874d5e0e",
   "metadata": {},
   "outputs": [],
   "source": [
    "#Example:\n",
    "class Circle:\n",
    "    def __init__(self, radius):\n",
    "        self.radius = radius  # Attribute: radius\n",
    "\n",
    "    def area(self):\n",
    "        return 3.14159 * self.radius * self.radius  # Method: area"
   ]
  },
  {
   "cell_type": "markdown",
   "id": "06e20362",
   "metadata": {},
   "source": [
    "In summary, attributes define the properties or state of objects, while methods define the behaviors or actions that objects can take. They work together to encapsulate data and functionality within a class, allowing you to create objects with specific attributes and behavior. When you create an instance of a class, you get access to both the attributes and methods associated with that class."
   ]
  },
  {
   "cell_type": "markdown",
   "id": "b3f72efe",
   "metadata": {},
   "source": [
    "**Q5.** In Python, both class variables and instance variables are used to store data within a class, but they have different scopes, lifetimes, and purposes:\n",
    "\n",
    "1. **Class Variables**:\n",
    "   - Class variables are variables that are shared among all instances (objects) of a class. They belong to the class itself rather than to any specific instance.\n",
    "   - They are defined outside of any instance method and are typically placed at the top of the class definition.\n",
    "   - Class variables are shared across all instances, meaning if you change the value of a class variable for one object, it will affect all other objects created from the same class.\n",
    "   - They are useful for storing data that is common to all objects of the class, such as constants or configuration settings.\n",
    "   - You access class variables using the class name, not an instance of the class."
   ]
  },
  {
   "cell_type": "code",
   "execution_count": 8,
   "id": "5b0fa159",
   "metadata": {},
   "outputs": [],
   "source": [
    "#Example:\n",
    "\n",
    "class Circle:\n",
    "    pi = 3.14159  # Class variable\n",
    "\n",
    "    def __init__(self, radius):\n",
    "        self.radius = radius  # Instance variable\n",
    "\n",
    "    def area(self):\n",
    "        return Circle.pi * self.radius * self.radius"
   ]
  },
  {
   "cell_type": "markdown",
   "id": "e1e89124",
   "metadata": {},
   "source": [
    "2. **Instance Variables**:\n",
    "   - Instance variables are variables that belong to a specific instance (object) of a class. Each instance has its own set of instance variables.\n",
    "   - They are defined within the constructor method (`__init__`) of the class and are initialized using the `self` keyword, which refers to the current instance.\n",
    "   - Instance variables are used to store data that is unique to each object created from the class. They represent the object's state or attributes.\n",
    "   - You access instance variables using the instance name (e.g., `self.variable_name`)."
   ]
  },
  {
   "cell_type": "code",
   "execution_count": 10,
   "id": "2b4eaf5e",
   "metadata": {},
   "outputs": [],
   "source": [
    "#Example:\n",
    "\n",
    "class Circle:\n",
    "    def __init__(self, radius):\n",
    "        self.radius = radius  # Instance variable\n",
    "\n",
    "    def area(self):\n",
    "        return 3.14159 * self.radius * self.radius"
   ]
  },
  {
   "cell_type": "markdown",
   "id": "5f05e35b",
   "metadata": {},
   "source": [
    "In summary, the key differences between class variables and instance variables are:\n",
    "\n",
    "- **Scope**:\n",
    "  - Class variables are shared across all instances of the class.\n",
    "  - Instance variables are specific to each instance of the class.\n",
    "\n",
    "- **Access**:\n",
    "  - Class variables are accessed using the class name (e.g., `ClassName.variable_name`).\n",
    "  - Instance variables are accessed using the instance name (e.g., `instance_name.variable_name`).\n",
    "\n",
    "- **Purpose**:\n",
    "  - Class variables are typically used for data that is shared among all instances, such as constants or configuration settings.\n",
    "  - Instance variables are used for data that varies between instances, representing the unique state or attributes of each object."
   ]
  },
  {
   "cell_type": "markdown",
   "id": "f9fb4352",
   "metadata": {},
   "source": [
    "**Q6.** In Python, the `self` parameter in class methods serves a specific and important purpose. It represents the instance of the class, also known as the object, on which the method is called. By convention, this parameter is named `self`, but you can technically choose any valid variable name for it (though using `self` is a widely accepted convention).\n",
    "\n",
    "The primary purpose of the `self` parameter is to allow methods to access and manipulate the attributes and other methods of the instance (object) to which they belong. Here's why `self` is essential:\n",
    "\n",
    "1. **Accessing Instance Variables**:\n",
    "   - `self` allows methods to access instance variables, which are specific to each object created from the class.\n",
    "   - Without `self`, methods wouldn't know which object's attributes to work with because multiple objects can exist simultaneously."
   ]
  },
  {
   "cell_type": "code",
   "execution_count": 11,
   "id": "f41fca3a",
   "metadata": {},
   "outputs": [],
   "source": [
    "class Circle:\n",
    "    def __init__(self, radius):\n",
    "        self.radius = radius  # Accessing and initializing an instance variable\n",
    "\n",
    "    def area(self):\n",
    "        return 3.14159 * self.radius * self.radius  # Accessing an instance variable"
   ]
  },
  {
   "cell_type": "markdown",
   "id": "7c6d253c",
   "metadata": {},
   "source": [
    "2. **Calling Other Methods**:\n",
    "   - `self` enables methods to call other methods within the same class. This is important for organizing code and reusing functionality."
   ]
  },
  {
   "cell_type": "code",
   "execution_count": 12,
   "id": "d6195c1f",
   "metadata": {},
   "outputs": [],
   "source": [
    "class Calculator:\n",
    "    def add(self, x, y):\n",
    "        return x + y\n",
    "\n",
    "    def multiply(self, x, y):\n",
    "        return self.add(x, y) * 2  # Calling another method"
   ]
  },
  {
   "cell_type": "markdown",
   "id": "d1ffd3be",
   "metadata": {},
   "source": [
    "3. **Creating and Accessing Instance Attributes**:\n",
    "   - `self` is used to create and initialize instance attributes within the `__init__` method.\n",
    "   - It also allows access to those attributes throughout the object's lifetime."
   ]
  },
  {
   "cell_type": "code",
   "execution_count": 13,
   "id": "562c1a44",
   "metadata": {},
   "outputs": [],
   "source": [
    "class Person:\n",
    "    def __init__(self, name, age):\n",
    "        self.name = name  # Creating and initializing an instance attribute\n",
    "        self.age = age\n",
    "\n",
    "    def introduce(self):\n",
    "        return f\"My name is {self.name} and I am {self.age} years old.\"  # Accessing an instance attribute"
   ]
  },
  {
   "cell_type": "markdown",
   "id": "ac935208",
   "metadata": {},
   "source": [
    "4. **Differentiating Between Class and Instance Variables**:\n",
    "   - `self` helps distinguish between instance variables (attributes) and class variables. When you use `self`, you indicate that you're working with an instance attribute."
   ]
  },
  {
   "cell_type": "code",
   "execution_count": 14,
   "id": "316a6e00",
   "metadata": {},
   "outputs": [],
   "source": [
    "class Example:\n",
    "    class_variable = 42  # Class variable\n",
    "\n",
    "    def __init__(self, instance_variable):\n",
    "        self.instance_variable = instance_variable  # Instance variable"
   ]
  },
  {
   "cell_type": "markdown",
   "id": "e12cbb90",
   "metadata": {},
   "source": [
    "In summary, the `self` parameter in class methods is a reference to the instance of the class itself, and it is crucial for accessing and managing the instance's state and behavior. It allows you to work with instance-specific data and methods within a class."
   ]
  },
  {
   "cell_type": "markdown",
   "id": "ad471cca",
   "metadata": {},
   "source": [
    "**Q7.** *the code is given below:*"
   ]
  },
  {
   "cell_type": "code",
   "execution_count": 17,
   "id": "2f5ecb43",
   "metadata": {},
   "outputs": [],
   "source": [
    "class book:\n",
    "    def __init__(self,title,author,isbn,publication_year,available_copy):\n",
    "        self.title=title\n",
    "        self.author=author\n",
    "        self.isbn=isbn\n",
    "        self.publication_year=publication_year\n",
    "        self.available_copy=available_copy\n",
    "    def check_out(self):\n",
    "        if self.available_copy>0:\n",
    "            self.available_copy-=1\n",
    "        else:\n",
    "            print(\"sorry!sold out!\")\n",
    "    def return_book(self):\n",
    "        self.available_copy+=1\n",
    "    def display_book_info(self):\n",
    "        print(f\"the title of the book is {self.title}\")\n",
    "        print(f\"the author of the book is {self.author}\")\n",
    "        print(f\"International Standard Book Number of the book is {self.isbn}\")\n",
    "        print(f\"publication year is:{self.publication_year}\")\n",
    "        print(f\"available copies of the book is:{self.available_copy}\")"
   ]
  },
  {
   "cell_type": "code",
   "execution_count": 18,
   "id": "2b8e3302",
   "metadata": {},
   "outputs": [
    {
     "name": "stdout",
     "output_type": "stream",
     "text": [
      "the title of the book is Python Programming\n",
      "the author of the book is John Smith\n",
      "International Standard Book Number of the book is 978-0123456789\n",
      "publication year is:2022\n",
      "available copies of the book is:5\n",
      "the title of the book is Data Science Handbook\n",
      "the author of the book is Jane Doe\n",
      "International Standard Book Number of the book is 978-9876543210\n",
      "publication year is:2021\n",
      "available copies of the book is:3\n"
     ]
    }
   ],
   "source": [
    "book1 = book(\"Python Programming\", \"John Smith\", \"978-0123456789\", 2022, 5)\n",
    "book2 = book(\"Data Science Handbook\", \"Jane Doe\", \"978-9876543210\", 2021, 3)\n",
    "\n",
    "book1.display_book_info()\n",
    "book1.check_out()\n",
    "book1.return_book()\n",
    "\n",
    "book2.display_book_info()\n",
    "book2.check_out()\n",
    "book2.check_out()\n",
    "book2.return_book()"
   ]
  },
  {
   "cell_type": "markdown",
   "id": "2a19374b",
   "metadata": {},
   "source": [
    "In this implementation:\n",
    "\n",
    " - The `__init__` method initializes the attributes of the book object.\n",
    " - The check_out method decrements the available copies if there are copies available for checkout.\n",
    " - The return_book method increments the available copies when a book is returned.\n",
    " - The display_book_info method displays the information about the book.\n",
    " - You can create instances of the \"Book\" class and use its methods to manage and display information about books in your library management system."
   ]
  },
  {
   "cell_type": "markdown",
   "id": "8c83b917",
   "metadata": {},
   "source": [
    "**Q8.** *the code is given below:*"
   ]
  },
  {
   "cell_type": "code",
   "execution_count": 19,
   "id": "8c57b2d4",
   "metadata": {},
   "outputs": [],
   "source": [
    "class ticket:\n",
    "    def __init__(self,ticket_id,event_name,event_date,venue,seat_number,price):\n",
    "        self.ticket_id=ticket_id\n",
    "        self.event_name=event_name\n",
    "        self.event_date=event_date\n",
    "        self.venue=venue\n",
    "        self.seat_number=seat_number\n",
    "        self.price=price\n",
    "        self.is_reserved=False\n",
    "    def reserve_ticket(self):\n",
    "        if not self.is_reserved:\n",
    "            self.is_reserved = True\n",
    "            print(f\"Ticket {self.ticket_id} has been reserved.\")\n",
    "        else:\n",
    "            print(f\"Ticket {self.ticket_id} is already reserved.\")\n",
    "    def cancel_reservation(self):\n",
    "        if self.is_reserved:\n",
    "            self.is_reserved = False\n",
    "            print(f\"Reservation for Ticket {self.ticket_id} has been canceled.\")\n",
    "        else:\n",
    "            print(f\"Ticket {self.ticket_id} is not reserved, so there's nothing to cancel.\")\n",
    "    def display_ticket_info(self):\n",
    "        print(f\"the ticket id is {self.ticket_id}\")\n",
    "        print(f\"the event name is {self.event_name}\")\n",
    "        print(f\"the event date is {self.event_date}\")\n",
    "        print(f\"the venue is {self.venue}\")\n",
    "        print(f\"the seat_number is {self.seat_number}\")\n",
    "        print(f\"the price is {self.price}\")\n",
    "        reservation_status = \"Reserved\" if self.is_reserved else \"Not Reserved\"\n",
    "        print(f\"Reservation Status: {reservation_status}\")\n",
    "        "
   ]
  },
  {
   "cell_type": "code",
   "execution_count": 21,
   "id": "d883a1c3",
   "metadata": {},
   "outputs": [
    {
     "name": "stdout",
     "output_type": "stream",
     "text": [
      "the ticket id is 1\n",
      "the event name is Concert\n",
      "the event date is 2023-10-15\n",
      "the venue is Music Hall\n",
      "the seat_number is A-101\n",
      "the price is 50.0\n",
      "Reservation Status: Not Reserved\n",
      "Ticket 1 has been reserved.\n",
      "Reservation for Ticket 1 has been canceled.\n",
      "Ticket 1 has been reserved.\n",
      "the ticket id is 1\n",
      "the event name is Concert\n",
      "the event date is 2023-10-15\n",
      "the venue is Music Hall\n",
      "the seat_number is A-101\n",
      "the price is 50.0\n",
      "Reservation Status: Reserved\n",
      "the ticket id is 2\n",
      "the event name is Theater Show\n",
      "the event date is 2023-11-20\n",
      "the venue is City Theater\n",
      "the seat_number is B-205\n",
      "the price is 40.0\n",
      "Reservation Status: Not Reserved\n",
      "Ticket 2 has been reserved.\n",
      "Reservation for Ticket 2 has been canceled.\n",
      "the ticket id is 2\n",
      "the event name is Theater Show\n",
      "the event date is 2023-11-20\n",
      "the venue is City Theater\n",
      "the seat_number is B-205\n",
      "the price is 40.0\n",
      "Reservation Status: Not Reserved\n"
     ]
    }
   ],
   "source": [
    "ticket1 = ticket(1, \"Concert\", \"2023-10-15\", \"Music Hall\", \"A-101\", 50.00)\n",
    "ticket2 = ticket(2, \"Theater Show\", \"2023-11-20\", \"City Theater\", \"B-205\", 40.00)\n",
    "\n",
    "ticket1.display_ticket_info()\n",
    "ticket1.reserve_ticket()\n",
    "ticket1.cancel_reservation()\n",
    "ticket1.reserve_ticket()\n",
    "ticket1.display_ticket_info()\n",
    "\n",
    "ticket2.display_ticket_info()\n",
    "ticket2.reserve_ticket()\n",
    "ticket2.cancel_reservation()\n",
    "ticket2.display_ticket_info()"
   ]
  },
  {
   "cell_type": "markdown",
   "id": "48664e76",
   "metadata": {},
   "source": [
    "In this implementation:\n",
    "\n",
    "- The `__init__` method initializes the attributes of the ticket object, including setting is_reserved to False initially.\n",
    "- The reserve_ticket method marks the ticket as reserved if it is not already reserved.\n",
    "- The cancel_reservation method cancels the reservation of the ticket if it is already reserved.\n",
    "- The display_ticket_info method displays detailed information about the ticket, including its attributes and reservation status.\n",
    "- You can create instances of the \"Ticket\" class and use its methods to manage and display information about tickets in your ticket booking system."
   ]
  },
  {
   "cell_type": "markdown",
   "id": "1a142288",
   "metadata": {},
   "source": [
    "**Q9.** *the code is given below:*"
   ]
  },
  {
   "cell_type": "code",
   "execution_count": 23,
   "id": "e37c2484",
   "metadata": {},
   "outputs": [],
   "source": [
    "class shopping_cart:\n",
    "    def __init__(self):\n",
    "        self.items=[]\n",
    "    def add_item(self, item):\n",
    "        self.items.append(item)\n",
    "        print(f\"Added {item} to the shopping cart.\")\n",
    "    def remove_item(self, item):\n",
    "        if item in self.items:\n",
    "            self.items.remove(item)\n",
    "            print(f\"Removed {item} from the shopping cart.\")\n",
    "        else:\n",
    "            print(\"item not found\")\n",
    "    def view_cart(self):\n",
    "        if not self.items:\n",
    "            print(\"The shopping cart is empty.\")\n",
    "        else:\n",
    "            print(\"Shopping Cart Contents:\")\n",
    "            for item in self.items:\n",
    "                print(f\"- {item}\")\n",
    "    def clear_cart(self):\n",
    "        self.items = []\n",
    "        print(\"Shopping cart has been cleared.\")"
   ]
  },
  {
   "cell_type": "code",
   "execution_count": 24,
   "id": "578cb740",
   "metadata": {},
   "outputs": [
    {
     "name": "stdout",
     "output_type": "stream",
     "text": [
      "Added mobile to the shopping cart.\n",
      "Added laptop to the shopping cart.\n",
      "Shopping Cart Contents:\n",
      "- mobile\n",
      "- laptop\n",
      "Removed mobile from the shopping cart.\n",
      "Shopping Cart Contents:\n",
      "- laptop\n",
      "Shopping cart has been cleared.\n",
      "The shopping cart is empty.\n"
     ]
    }
   ],
   "source": [
    "cart = shopping_cart()\n",
    "\n",
    "cart.add_item(\"mobile\")\n",
    "cart.add_item(\"laptop\")\n",
    "cart.view_cart()\n",
    "\n",
    "cart.remove_item(\"mobile\")\n",
    "cart.view_cart()\n",
    "\n",
    "cart.clear_cart()\n",
    "cart.view_cart()"
   ]
  },
  {
   "cell_type": "markdown",
   "id": "711c5d0f",
   "metadata": {},
   "source": [
    "**Q9.** *the code is given below:*"
   ]
  },
  {
   "cell_type": "code",
   "execution_count": 29,
   "id": "0d753a50",
   "metadata": {},
   "outputs": [],
   "source": [
    "class student:\n",
    "    def __init__(self,name,age,grade,student_id):\n",
    "        self.name=name\n",
    "        self.age=age\n",
    "        self.grade=grade\n",
    "        self.student_id=student_id\n",
    "        self.attendance={}\n",
    "    def update_attendance(self, date, status):\n",
    "        if status in [\"present\", \"absent\"]:\n",
    "            self.attendance[date] = status\n",
    "        else:\n",
    "            print(\"Invalid attendance status. Use 'present' or 'absent'.\")\n",
    "    def get_attendance(self):\n",
    "        return self.attendance\n",
    "    def get_average_attendance(self):\n",
    "        total_days = len(self.attendance)\n",
    "        if total_days == 0:\n",
    "            return 0\n",
    "        present_days = sum(1 for status in self.attendance.values() if status == 'present')\n",
    "        attendance_percentage = (present_days / total_days) * 100\n",
    "        return attendance_percentage"
   ]
  },
  {
   "cell_type": "code",
   "execution_count": 30,
   "id": "70700546",
   "metadata": {},
   "outputs": [
    {
     "name": "stdout",
     "output_type": "stream",
     "text": [
      "Alice's attendance record:\n",
      "{'2023-09-01': 'present', '2023-09-02': 'absent', '2023-09-03': 'present', '2023-09-04': 'present', '2023-09-05': 'absent'}\n",
      "Alice's average attendance: 60.00%\n"
     ]
    }
   ],
   "source": [
    "student1 = student(\"Alice\", 15, \"10th Grade\", \"S12345\")\n",
    "student1.update_attendance(\"2023-09-01\", \"present\")\n",
    "student1.update_attendance(\"2023-09-02\", \"absent\")\n",
    "student1.update_attendance(\"2023-09-03\", \"present\")\n",
    "student1.update_attendance(\"2023-09-04\", \"present\")\n",
    "student1.update_attendance(\"2023-09-05\", \"absent\")\n",
    "\n",
    "print(f\"{student1.name}'s attendance record:\")\n",
    "print(student1.get_attendance())\n",
    "\n",
    "average_attendance = student1.get_average_attendance()\n",
    "print(f\"{student1.name}'s average attendance: {average_attendance:.2f}%\")"
   ]
  },
  {
   "cell_type": "code",
   "execution_count": null,
   "id": "cf9bc92c",
   "metadata": {},
   "outputs": [],
   "source": []
  }
 ],
 "metadata": {
  "kernelspec": {
   "display_name": "Python 3 (ipykernel)",
   "language": "python",
   "name": "python3"
  },
  "language_info": {
   "codemirror_mode": {
    "name": "ipython",
    "version": 3
   },
   "file_extension": ".py",
   "mimetype": "text/x-python",
   "name": "python",
   "nbconvert_exporter": "python",
   "pygments_lexer": "ipython3",
   "version": "3.11.3"
  }
 },
 "nbformat": 4,
 "nbformat_minor": 5
}
